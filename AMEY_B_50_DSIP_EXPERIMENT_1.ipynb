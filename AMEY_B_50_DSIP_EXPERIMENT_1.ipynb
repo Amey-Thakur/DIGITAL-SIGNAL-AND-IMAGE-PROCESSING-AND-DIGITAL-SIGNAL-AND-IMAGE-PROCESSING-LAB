{
  "nbformat": 4,
  "nbformat_minor": 0,
  "metadata": {
    "colab": {
      "name": "AMEY_B-50_DSIP_EXPERIMENT-1.ipynb",
      "private_outputs": true,
      "provenance": [],
      "authorship_tag": "ABX9TyNXzirSVXillaGdEL8KlEVZ",
      "include_colab_link": true
    },
    "kernelspec": {
      "name": "python3",
      "display_name": "Python 3"
    },
    "language_info": {
      "name": "python"
    }
  },
  "cells": [
    {
      "cell_type": "markdown",
      "metadata": {
        "id": "view-in-github",
        "colab_type": "text"
      },
      "source": [
        "<a href=\"https://colab.research.google.com/github/Amey-Thakur/DIGITAL-SIGNAL-AND-IMAGE-PROCESSING-LAB/blob/main/AMEY_B_50_DSIP_EXPERIMENT_1.ipynb\" target=\"_parent\"><img src=\"https://colab.research.google.com/assets/colab-badge.svg\" alt=\"Open In Colab\"/></a>"
      ]
    },
    {
      "cell_type": "markdown",
      "metadata": {
        "id": "0Kq4Kq-_bsLP"
      },
      "source": [
        "##Aim: \n",
        "\n",
        "###To study sampling and reconstruction of signal.\n"
      ]
    },
    {
      "cell_type": "code",
      "metadata": {
        "id": "S74uAysYbUfH"
      },
      "source": [
        "import numpy as np\n",
        "import matplotlib.pyplot as plt"
      ],
      "execution_count": null,
      "outputs": []
    },
    {
      "cell_type": "code",
      "metadata": {
        "id": "Wstcg1N3bXdm"
      },
      "source": [
        "f = 1000\n",
        "t = np.arange(0,2e-3,10e-6)\n",
        "b = np.sin(2*np.pi*f*t)\n",
        "plt.figure(1)\n",
        "plt.plot(t,b,\"g\")\n",
        "plt.xlabel('t');\n",
        "plt.ylabel('x(t)');\n",
        "plt.title(\"Continuous Signal\")\n",
        "plt.show()"
      ],
      "execution_count": null,
      "outputs": []
    },
    {
      "cell_type": "code",
      "metadata": {
        "id": "jqLC_zgdbZCW"
      },
      "source": [
        "ts = np.arange(0,2e-3,0.1e-3)\n",
        "c = np.sin(2*np.pi*f*ts)\n",
        "plt.figure(2)\n",
        "plt.stem(ts,c,\"k\")\n",
        "plt.xlabel('n');\n",
        "plt.ylabel('x(n)');\n",
        "plt.title(\"Discrete Signal\")\n",
        "plt.show()"
      ],
      "execution_count": null,
      "outputs": []
    }
  ]
}